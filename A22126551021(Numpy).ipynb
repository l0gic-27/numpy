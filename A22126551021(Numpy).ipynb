{
  "nbformat": 4,
  "nbformat_minor": 0,
  "metadata": {
    "colab": {
      "provenance": []
    },
    "kernelspec": {
      "name": "python3",
      "display_name": "Python 3"
    },
    "language_info": {
      "name": "python"
    }
  },
  "cells": [
    {
      "cell_type": "markdown",
      "source": [
        "1. Getting Familiar with NumPy"
      ],
      "metadata": {
        "id": "-eC9aU7LdwMP"
      }
    },
    {
      "cell_type": "code",
      "source": [
        "import numpy as np\n",
        "\n",
        "# Creating a 1D array from a Python list\n",
        "array_1d = np.array([1, 2, 3, 4, 5])\n",
        "print(\"1D Array:\")\n",
        "print(array_1d)\n",
        "\n",
        "# Creating a 2D array (matrix) from a nested Python list\n",
        "array_2d = np.array([[1, 2, 3], [4, 5, 6]])\n",
        "print(\"\\n2D Array:\")\n",
        "print(array_2d)\n",
        "\n",
        "# Performing basic operations\n",
        "array_sum = array_1d + 5\n",
        "print(\"\\nArray after adding 5 to each element:\")\n",
        "print(array_sum)\n",
        "\n",
        "array_product = array_2d * 2\n",
        "print(\"\\nArray after multiplying each element by 2:\")\n",
        "print(array_product)\n",
        "\n",
        "# Understanding array properties\n",
        "print(\"\\nArray Properties:\")\n",
        "print(f\"Shape of array_2d: {array_2d.shape}\")\n",
        "print(f\"Size of array_2d: {array_2d.size}\")\n",
        "print(f\"Data type of array_2d: {array_2d.dtype}\")"
      ],
      "metadata": {
        "id": "IeX47sYgdxr-"
      },
      "execution_count": null,
      "outputs": []
    },
    {
      "cell_type": "markdown",
      "source": [
        "2. Data Manipulation with NumPy"
      ],
      "metadata": {
        "id": "B2IfcNjseHYU"
      }
    },
    {
      "cell_type": "code",
      "source": [
        "# Array creation using np.arange()\n",
        "array = np.arange(10)\n",
        "print(\"\\nArray created with np.arange():\")\n",
        "print(array)\n",
        "\n",
        "# Indexing and slicing\n",
        "print(\"\\nElement at index 3:\")\n",
        "print(array[3])\n",
        "\n",
        "print(\"\\nSliced array (elements from index 2 to 5):\")\n",
        "print(array[2:6])\n",
        "\n",
        "# Reshaping arrays\n",
        "array_reshaped = array.reshape((2, 5))\n",
        "print(\"\\nReshaped array (2x5):\")\n",
        "print(array_reshaped)\n",
        "\n",
        "# Applying mathematical operations\n",
        "array_squared = array ** 2\n",
        "print(\"\\nArray after squaring each element:\")\n",
        "print(array_squared)\n",
        "\n",
        "array_sqrt = np.sqrt(array)\n",
        "print(\"\\nSquare root of each element in the array:\")\n",
        "print(array_sqrt)\n"
      ],
      "metadata": {
        "id": "or7szJfleH_h"
      },
      "execution_count": null,
      "outputs": []
    },
    {
      "cell_type": "markdown",
      "source": [
        "3. Data Aggregation"
      ],
      "metadata": {
        "id": "0KyU3V8heP3Q"
      }
    },
    {
      "cell_type": "code",
      "source": [
        "# Create a 2D array for aggregation examples\n",
        "data = np.array([[10, 20, 30], [40, 50, 60], [70, 80, 90]])\n",
        "print(\"\\nData array:\")\n",
        "print(data)\n",
        "\n",
        "# Computing summary statistics\n",
        "mean = np.mean(data)\n",
        "median = np.median(data)\n",
        "std_dev = np.std(data)\n",
        "total_sum = np.sum(data)\n",
        "\n",
        "print(\"\\nSummary statistics:\")\n",
        "print(f\"Mean: {mean}\")\n",
        "print(f\"Median: {median}\")\n",
        "print(f\"Standard Deviation: {std_dev}\")\n",
        "print(f\"Sum: {total_sum}\")\n",
        "\n",
        "# Performing aggregations by axis\n",
        "mean_by_column = np.mean(data, axis=0)\n",
        "mean_by_row = np.mean(data, axis=1)\n",
        "print(\"\\nMean by column:\")\n",
        "print(mean_by_column)\n",
        "print(\"\\nMean by row:\")\n",
        "print(mean_by_row)"
      ],
      "metadata": {
        "id": "ch-AOHz2eQhP"
      },
      "execution_count": null,
      "outputs": []
    },
    {
      "cell_type": "markdown",
      "source": [
        "4. Data Analysis"
      ],
      "metadata": {
        "id": "fsnCrn5LeaEy"
      }
    },
    {
      "cell_type": "code",
      "source": [
        "# Example arrays for correlation\n",
        "x = np.array([1, 2, 3, 4, 5])\n",
        "y = np.array([2, 4, 6, 8, 10])\n",
        "\n",
        "# Compute correlation coefficient\n",
        "correlation = np.corrcoef(x, y)\n",
        "print(\"\\nCorrelation coefficient between x and y:\")\n",
        "print(correlation)\n",
        "\n",
        "# Identifying outliers using Z-score\n",
        "data_with_outliers = np.array([10, 12, 15, 18, 20, 22, 100])  # 100 is an outlier\n",
        "mean_data = np.mean(data_with_outliers)\n",
        "std_dev_data = np.std(data_with_outliers)\n",
        "z_scores = (data_with_outliers - mean_data) / std_dev_data\n",
        "\n",
        "print(\"\\nZ-scores of the data (detect outliers):\")\n",
        "print(z_scores)\n",
        "\n",
        "# Find elements that are considered outliers (absolute Z-score > 2)\n",
        "outliers = data_with_outliers[np.abs(z_scores) > 2]\n",
        "print(\"\\nOutliers in the data:\")\n",
        "print(outliers)\n",
        "\n",
        "# Calculating percentiles\n",
        "percentile_25 = np.percentile(data_with_outliers, 25)\n",
        "percentile_50 = np.percentile(data_with_outliers, 50)  # Also the median\n",
        "percentile_75 = np.percentile(data_with_outliers, 75)\n",
        "\n",
        "print(\"\\nPercentiles of the data:\")\n",
        "print(f\"25th percentile: {percentile_25}\")\n",
        "print(f\"50th percentile (median): {percentile_50}\")\n",
        "print(f\"75th percentile: {percentile_75}\")"
      ],
      "metadata": {
        "id": "JqLrYp87eaoC"
      },
      "execution_count": null,
      "outputs": []
    },
    {
      "cell_type": "markdown",
      "source": [
        "5.Application in Data Science"
      ],
      "metadata": {
        "id": "u2S6VcNvefYL"
      }
    },
    {
      "cell_type": "markdown",
      "source": [
        "Performance: NumPy arrays are optimized for speed and can handle large datasets efficiently. Operations are performed directly in C, making them faster than native Python.\n",
        "\n",
        "Memory Efficiency: NumPy uses contiguous blocks of memory for arrays, which makes processing more efficient compared to Python lists.\n",
        "\n",
        "Convenience: NumPy provides a large library of mathematical functions that are easy to use and apply to arrays, making complex computations simple.\n",
        "\n",
        "Integration: NumPy integrates seamlessly with other Python libraries like Pandas, Matplotlib, and SciPy, providing a robust foundation for data analysis workflows."
      ],
      "metadata": {
        "id": "-w71KFN1ejhp"
      }
    },
    {
      "cell_type": "markdown",
      "source": [
        "Real-World Examples\n",
        "\n",
        "Machine Learning: NumPy is used to handle numerical data, perform matrix operations, and compute gradients, which are crucial in building machine learning models.\n",
        "\n",
        "Financial Analysis: In finance, NumPy is used to perform quantitative analysis, compute financial indicators, and model time-series data.\n",
        "\n",
        "Scientific Research: NumPy is widely used in scientific computing for simulations, solving mathematical problems, and analyzing experimental data due to its ability to handle large, multi-dimensional arrays efficiently."
      ],
      "metadata": {
        "id": "Q_FWOPrSemgF"
      }
    },
    {
      "cell_type": "markdown",
      "source": [
        "Conclusion"
      ],
      "metadata": {
        "id": "LdQavvFXepb1"
      }
    },
    {
      "cell_type": "markdown",
      "source": [
        "By exploring the examples above, you’ll gain a comprehensive understanding of how NumPy can be used for data manipulation, analysis, and aggregation in data science. NumPy is a powerful tool that simplifies numerical computations, making it indispensable for data science professionals dealing with large datasets and complex numerical tasks."
      ],
      "metadata": {
        "id": "YmBGNJT-er_Q"
      }
    }
  ]
}